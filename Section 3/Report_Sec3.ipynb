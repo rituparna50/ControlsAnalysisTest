{
  "nbformat": 4,
  "nbformat_minor": 0,
  "metadata": {
    "colab": {
      "provenance": []
    },
    "kernelspec": {
      "name": "python3",
      "display_name": "Python 3"
    },
    "language_info": {
      "name": "python"
    }
  },
  "cells": [
    {
      "cell_type": "markdown",
      "source": [
        "## Simulation of a spring-mass damper system"
      ],
      "metadata": {
        "id": "cCBDh1Zu0-6v"
      }
    },
    {
      "cell_type": "markdown",
      "source": [
        "### Defining all the necessary functions that will be called in the main code"
      ],
      "metadata": {
        "id": "7nOcrfE51eLy"
      }
    },
    {
      "cell_type": "code",
      "source": [
        "def spring_mass_damper(state, t):\n",
        "\n",
        "    #Function to compute the derivatives of the state vector for a spring-mass-damper system\n",
        "    #Arguments :\n",
        "\n",
        "        #state -- list or array like, the state vector containing the position and velocity [x, v]\n",
        "        # t -- float type, the time at which to evaluate the derivatives\n",
        "\n",
        "    #Returns :\n",
        "        #derivatives -- list, the computed derivatives [dx/dt, dv/dt]\n",
        "\n",
        "    #Defining system parameters\n",
        "    m = 1.0     #Mass in kg\n",
        "    k = 2.0     # Spring constant (N/m)\n",
        "    c = 0.5     # Damping coefficient (Ns/m)\n",
        "\n",
        "    x, v = state    #Unpack state vector\n",
        "\n",
        "    #Calculating the derivatives of the state vector\n",
        "    dxdt = v\n",
        "    dvdt = (1.0/m) * (-k * x - c * v)\n",
        "\n",
        "    return [dxdt, dvdt]  # Returns derivatives of position and velocity\n"
      ],
      "metadata": {
        "id": "spvqYOjk1JHC"
      },
      "execution_count": 1,
      "outputs": []
    },
    {
      "cell_type": "code",
      "source": [
        "def pid_cntrl(curr_err, prev_err, err_integral, Kp, Ki, Kd, dt):\n",
        "    ## To compute the PID control signal based on the current error and controller parameters\n",
        "    # Arguments in pid_cntrl function\n",
        "\n",
        "    # curr_err -- Current error (difference between setpoint and actual value)\n",
        "    # prev_err -- Previous error before time step\n",
        "    # err_integral -- Total cumulative error\n",
        "    # Kp - Proportional gain\n",
        "    # Ki - Integral Gain\n",
        "    # Kd - Derivative Gain\n",
        "    # dt - Duration of a time step\n",
        "\n",
        "    ## Returns of the function\n",
        "    #cntrl_sgnl -- PID control signal\n",
        "    #err_integral - Updated cumulative error\n",
        "\n",
        "    # Proportional term\n",
        "    P = Kp * curr_err\n",
        "\n",
        "    # Integral Term\n",
        "    err_integral = err_integral + curr_err * dt\n",
        "    I = Ki * err_integral\n",
        "\n",
        "    # Derivative Term\n",
        "    deriv = (curr_err - prev_err) / dt\n",
        "    D = Kd * deriv\n",
        "\n",
        "    # PID output\n",
        "    cntrl_signl = P + I + D\n",
        "    return cntrl_signl, err_integral\n"
      ],
      "metadata": {
        "id": "BFeulc7A1Nu3"
      },
      "execution_count": 2,
      "outputs": []
    },
    {
      "cell_type": "code",
      "source": [
        "def spring_mass_damper_with_PID(state, t, prev_err, err_integral, Kp, Ki, Kd, dt):\n",
        "    # Function to compute the derivatives of the state vector for a spring-mass-damper system with PID\n",
        "\n",
        "    #Arguments ---\n",
        "    # state -- list or array like, the state vector containing the position and velocity [x, v]\n",
        "    # t -- float type, the time at which to evaluate the derivatives\n",
        "\n",
        "    # Defining system parameters\n",
        "    m = 1.0  # Mass in kg\n",
        "    k = 2.0  # Spring constant (N/m)\n",
        "    c = 0.5  # Damping coefficient (Ns/m)\n",
        "\n",
        "    x, v = state  # Unpack state vector\n",
        "\n",
        "    #Defining setpoint as desired position\n",
        "    des_pos = 0.0\n",
        "\n",
        "    curr_err = des_pos - x  # Calculating error\n",
        "\n",
        "    cntrl_signl, err_integral = pid_cntrl (curr_err, prev_err, err_integral, Kp, Ki, Kd, dt)\n",
        "\n",
        "    # Calculating the derivatives of the state vector\n",
        "    dxdt = v\n",
        "    dvdt = (1.0 / m) * (-k * x - c * v + cntrl_signl)\n",
        "\n",
        "    return [dxdt, dvdt]  # Returns derivatives of position and velocity\n"
      ],
      "metadata": {
        "id": "qcnVaev41TNj"
      },
      "execution_count": 3,
      "outputs": []
    },
    {
      "cell_type": "markdown",
      "source": [
        "## Main Code\n",
        "\n",
        "### Part 1 \n",
        "\n",
        "Creating a simulation of a spring-mass-damper system. Result of this simulation stored in a csv file outputs time, position, velocity as a Pandas DataFrame. ODE solver used is \"odeint\". "
      ],
      "metadata": {
        "id": "PirKJUsQ1sCp"
      }
    },
    {
      "cell_type": "code",
      "source": [
        "import pandas as pd\n",
        "from scipy.integrate import odeint\n",
        "import numpy as np\n",
        "from scipy import signal\n",
        "import matplotlib.pyplot as plt"
      ],
      "metadata": {
        "id": "stB7ihWP1uh3"
      },
      "execution_count": 14,
      "outputs": []
    },
    {
      "cell_type": "code",
      "source": [
        "#Initial conditions\n",
        "x0 = 1.0    # Setting initial position in meters\n",
        "v0 = 0.0    # Setting initial velocity in m/s\n",
        "state0 = [x0, v0]\n",
        "\n",
        "#Time points to evaluate the system\n",
        "t = pd.Series([i *0.1 for i in range(100)])\n",
        "\n",
        "#Solve for ODE using scipy's \"odeint\" ODE solver and the imported function\n",
        "state = odeint(spring_mass_damper, state0, t)\n",
        "position = state[:, 0]\n",
        "velocity = state[:, 1]\n",
        "\n",
        "results = pd.DataFrame({\"Time\":t, \"Position\":position, \"Velocity\":velocity})\n",
        "#Create a Pandas dataframe to store the simulation results\n",
        "\n",
        "#Specify directory path\n",
        "directory_path = r'C:\\Users\\ritup\\OneDrive\\Documents\\GitHub\\ControlsAnalysisTest\\Section 3\\Sec3'\n",
        "\n",
        "#Create the full path including directory and filename\n",
        "file_path = directory_path + '\\\\spring_simulation.csv'\n",
        "\n",
        "results.to_csv(file_path, index=False)\n",
        "#Saving results to a CSV file"
      ],
      "metadata": {
        "id": "K-P3FwIr2MRI"
      },
      "execution_count": 11,
      "outputs": []
    },
    {
      "cell_type": "markdown",
      "source": [
        "## Part 2 - PID Controller\n",
        "A PID was written from scratch without the use of any pre-existing PID library"
      ],
      "metadata": {
        "id": "yEDRyWsC26Mj"
      }
    },
    {
      "cell_type": "code",
      "source": [
        "# Giving values to PID Controller parameters\n",
        "Kp = 1.0\n",
        "Ki = 0.5\n",
        "Kd = 0.2\n",
        "\n",
        "#Initial conditions\n",
        "x0 = 1.0    # Setting initial position in meters\n",
        "v0 = 0.0    # Setting initial velocity in m/s\n",
        "state0 = [x0, v0]\n",
        "\n",
        "#Time points to evaluate the system\n",
        "t = pd.Series([i *0.1 for i in range(100)])\n",
        "\n",
        "prev_err = 0.0\n",
        "err_integral = 0.0\n",
        "dt = 0.1\n",
        "\n",
        "#setting desired position for PID controller\n",
        "des_pos = 0.0\n",
        "\n",
        "#Solve for ODE using scipy's \"odeint\" ODE solver and the imported function\n",
        "state = odeint(spring_mass_damper_with_PID, state0, t, args=(prev_err, err_integral, Kp, Ki,Kd, dt),)\n",
        "\n",
        "positionPID = state[:, 0]\n",
        "velocityPID = state[:, 1]\n",
        "\n",
        "# Compute the PID controls signal for each time step\n",
        "errs = [] #Initialize the list of errors\n",
        "cntrl_signls = []  #Initialize the list of control signals\n",
        "\n",
        "for i in range (len(t)):\n",
        "    curr_err = des_pos - positionPID[i]\n",
        "    cntrl_signl, err_integral = pid_cntrl (curr_err, prev_err, err_integral, Kp, Ki, Kd, dt)\n",
        "\n",
        "    cntrl_signls.append(cntrl_signl)\n",
        "    errs.append(curr_err)\n",
        "    prev_err = curr_err"
      ],
      "metadata": {
        "id": "GWDaapcF3GeU"
      },
      "execution_count": 8,
      "outputs": []
    },
    {
      "cell_type": "code",
      "source": [
        "#Create a new dataframe for storing output obtained after using PID controller\n",
        "\n",
        "resultsPID = pd.DataFrame({\"Time\":t, 'Position with PID':positionPID, 'Velocity with PID':velocityPID, 'Control signals':cntrl_signls, 'Error':errs})\n",
        "#Create a Pandas dataframe to store the simulation results\n",
        "\n",
        "#Specify directory path\n",
        "directory_path = r'C:\\Users\\ritup\\OneDrive\\Documents\\GitHub\\ControlsAnalysisTest\\Section 3\\Sec3'\n",
        "\n",
        "#Create the full path including directory and filename\n",
        "file_path = directory_path + '\\\\spring_simulationPID.csv'\n",
        "\n",
        "#Save the output to the specified file path\n",
        "resultsPID.to_csv(file_path, index=False)\n"
      ],
      "metadata": {
        "id": "zinLGpPY3Qyk"
      },
      "execution_count": 12,
      "outputs": []
    },
    {
      "cell_type": "markdown",
      "source": [
        "Both csv results files obtained from running part 1 (without PID) and part 2 (with PID) was stored in a local file. The csv results are not displayed in this notebook, but saved in the \"Sec 3\" main folder for reference and review. "
      ],
      "metadata": {
        "id": "WzcRzTZl3Xjo"
      }
    },
    {
      "cell_type": "markdown",
      "source": [
        "# Part 3 - Open Loop Stability Analysis\n",
        "\n",
        "**Problem Statement** **WITHOUT PID**\n",
        "-- To perform open-loop stability analysis and determining gan margin and phase margin for the system, the transfer function of the system must be analyzed. The TF can be derived from teh equation of motion of the spring-mass-damper system. \n",
        "\n",
        "TF for the system without the PID controller is obtained by taking the Laplace Transform of the EOM and assuming 0 initial conditions. TF represents the relationship b/w the output and input of the system in the frequency domain. \n",
        "\n",
        "With this TF, stability can be analyzed by examining the poles if the TF. If all poles have negative real parts, system is stable. If any pole has a positive real part, system is unstable. \n",
        "\n",
        "To find the gain and phase margins, bode plot of the TF needs to be plotted. The gain margin is the amount of gain that can be added to the system before it becomes unstablle and the phase margin is the amount of phase shift that can be introduced before the system becoems unstable. These margins are read directly from the Bode plot. \n",
        "\n",
        "**Problem Statement** **WITH PID**\n",
        "Now, to analyze the stability of the entire system (controller -->plant), the TF of the plant (spring-mass-damper system) is combined with the TF of the PID controller. The resulkting TF represents the OLTF of the entire system. By analyzing the stabiity of the combined TF and examining the gain and phase margins, the ope-loop stbility of the entre system can be determined. \n",
        "\n",
        "For displaying the step response of the plant and comparing it with stability analysis and simulation results, a step inout was applied to the system and response observed. Step response showed how system behaved over time and could provide insights into its stability and transient response characteriestics. \n",
        "\n",
        "--------\n",
        "To perform open loop stability analysis and demonstrate the step response of the system, we can use the control system analysis and simulation libraries from Python. These are the Control System Library (scipy.signal) and Control library (control)\n"
      ],
      "metadata": {
        "id": "U31DaXfC4IMt"
      }
    },
    {
      "cell_type": "code",
      "source": [
        "# Define the transfer function of the plant (spring-mass-damper system)\n",
        "m = 1.0     # Mass in kg\n",
        "k = 2.0     # Spring constant (N/m)\n",
        "c = 0.5     # Damping coefficient (Ns/m)\n",
        "\n",
        "num = [0, 0, 1]      # Numerator coefficients of the transfer function\n",
        "den = [m, c, k]      # Denominator coefficients of the transfer function\n",
        "\n",
        "plant_tf = signal.TransferFunction(num, den)\n",
        "\n",
        "# Perform stability analysis\n",
        "poles = plant_tf.poles\n",
        "print(\"Poles are-\", poles)\n",
        "\n",
        "# Check if all poles have negative real parts\n",
        "if np.all(np.real(poles) < 0):\n",
        "    print(\"The plant is stable.\")\n",
        "else:\n",
        "    print(\"The plant is unstable.\")\n"
      ],
      "metadata": {
        "colab": {
          "base_uri": "https://localhost:8080/"
        },
        "id": "-iKROKMb5Wzc",
        "outputId": "6cb6896c-3f86-4e5e-bc35-c3e264cd6a1a"
      },
      "execution_count": 10,
      "outputs": [
        {
          "output_type": "stream",
          "name": "stdout",
          "text": [
            "Poles are- [-0.25+1.39194109j -0.25-1.39194109j]\n",
            "The plant is stable.\n"
          ]
        },
        {
          "output_type": "stream",
          "name": "stderr",
          "text": [
            "/usr/local/lib/python3.10/dist-packages/scipy/signal/_filter_design.py:1746: BadCoefficients: Badly conditioned filter coefficients (numerator): the results may be meaningless\n",
            "  warnings.warn(\"Badly conditioned filter coefficients (numerator): the \"\n"
          ]
        }
      ]
    },
    {
      "cell_type": "markdown",
      "source": [
        "**Poles: [-0.25+1.39194109j -0.25-1.39194109j]**\n",
        "\n",
        "Since the real parts of the poles are positive ---- \n",
        "This plant is stable"
      ],
      "metadata": {
        "id": "PZhQrg16-vrJ"
      }
    },
    {
      "cell_type": "markdown",
      "source": [
        "## Step Response without PID controller\n",
        "\n"
      ],
      "metadata": {
        "id": "lB5b2UVA8Wfa"
      }
    },
    {
      "cell_type": "code",
      "source": [
        "Poles are- [-0.25+1.39194109j -0.25-1.39194109j]\n",
        "The plant is stable.\n",
        "\n",
        "Stability of the plant: Stable\n",
        "Gain margin: inf dB\n",
        "Phase margin: 53.62480773137071 degrees\n",
        "\n",
        "Open-loop stability of the entire system: Stable\n",
        "Gain margin of the entire system: inf dB\n",
        "Phase margin of the entire system: 54.28392434137953 degrees"
      ],
      "metadata": {
        "id": "zIcbd9L58_Om"
      },
      "execution_count": null,
      "outputs": []
    },
    {
      "cell_type": "markdown",
      "source": [
        "## Step Response of the plant"
      ],
      "metadata": {
        "id": "mPlOMB5n9niB"
      }
    },
    {
      "cell_type": "markdown",
      "source": [
        "![Step response of the plant.png](data:image/png;base64,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)"
      ],
      "metadata": {
        "id": "jMMlH71j9f2Y"
      }
    },
    {
      "cell_type": "markdown",
      "source": [
        "From this step response of the plant that has PID controller, it can be seens that after some oscillations, the system tends to reacha  steady-state and shows an overall stability"
      ],
      "metadata": {
        "id": "3kd0zIv59svI"
      }
    }
  ]
}