{
  "nbformat": 4,
  "nbformat_minor": 0,
  "metadata": {
    "colab": {
      "provenance": []
    },
    "kernelspec": {
      "name": "python3",
      "display_name": "Python 3"
    },
    "language_info": {
      "name": "python"
    }
  },
  "cells": [
    {
      "cell_type": "markdown",
      "source": [
        "# Part 1 \n",
        "# Lateral aircraft state space model `\n",
        "###Lateral stability - stability along longitudinal axis. So no pitch(q). Only consideration roll(p) and yaw(r)\n",
        "\n",
        "State vector x = [v, p, phi, r]^T is a column vector\n",
        "  \n",
        "> v : velocity (ft/s)\n",
        "p : Roll rate (rad/s)\n",
        "phi : Roll angle (rad)\n",
        "r : Yaw rate (rad/s) \n",
        "\n",
        "Control vector eta = [del_r, del_a]^T is a column vector\n",
        "  where \n",
        "\n",
        "> del_r : Rudder deflection angle (rad), \n",
        "  del_a : Aileron deflection angle (rad)\n",
        "\n",
        "To create A matrix, derivatives of state variabkes were evaluated wrt time. \n",
        "\n",
        "v_dot = X_u*u + X_beta*beta + X_p*p + X_r*r\n",
        "p_dot = L_u*u + L_beta*beta + L_p*p + L_r*r\n",
        "where phi_dot = p\n",
        "r_dot = N_u*u + N_beta*beta + N_p*p + N_r*r\n",
        "\n",
        "  u - del_r (rudder deflection angle)\n",
        "  beta = del_a (aileron deflection angle)\n",
        "\n",
        "To create B matrix, how the control inputs affect the state variables.\n",
        "The control derivative equations can be expressed as:\n",
        "v_dot = X_del_r*delt_r + X_del_a*del_a\n",
        "p_dot = L_del_r*del_r + L_del_a*del_a\n",
        "φ_dot = 0\n",
        "r_dot = N_delta_r*del_r + N_del_a*del_a"
      ],
      "metadata": {
        "id": "nGAgORVmII48"
      }
    },
    {
      "cell_type": "code",
      "source": [
        "!pip install numpy\n",
        "!pip install control\n",
        "!pip install matplotlib\n",
        "\n",
        "import numpy as np\n",
        "import matplotlib.pyplot as plt\n",
        "import control"
      ],
      "metadata": {
        "colab": {
          "base_uri": "https://localhost:8080/"
        },
        "id": "RhcJgNPZlJ_4",
        "outputId": "f4e2c6f3-b8af-4106-98cf-6a49203fa5aa"
      },
      "execution_count": 5,
      "outputs": [
        {
          "output_type": "stream",
          "name": "stdout",
          "text": [
            "Looking in indexes: https://pypi.org/simple, https://us-python.pkg.dev/colab-wheels/public/simple/\n",
            "Requirement already satisfied: numpy in /usr/local/lib/python3.10/dist-packages (1.22.4)\n",
            "Looking in indexes: https://pypi.org/simple, https://us-python.pkg.dev/colab-wheels/public/simple/\n",
            "Collecting control\n",
            "  Downloading control-0.9.3.post2-py3-none-any.whl (432 kB)\n",
            "\u001b[2K     \u001b[90m━━━━━━━━━━━━━━━━━━━━━━━━━━━━━━━━━━━━━━\u001b[0m \u001b[32m432.8/432.8 kB\u001b[0m \u001b[31m12.8 MB/s\u001b[0m eta \u001b[36m0:00:00\u001b[0m\n",
            "\u001b[?25hRequirement already satisfied: numpy in /usr/local/lib/python3.10/dist-packages (from control) (1.22.4)\n",
            "Requirement already satisfied: scipy>=1.3 in /usr/local/lib/python3.10/dist-packages (from control) (1.10.1)\n",
            "Requirement already satisfied: matplotlib in /usr/local/lib/python3.10/dist-packages (from control) (3.7.1)\n",
            "Requirement already satisfied: contourpy>=1.0.1 in /usr/local/lib/python3.10/dist-packages (from matplotlib->control) (1.0.7)\n",
            "Requirement already satisfied: cycler>=0.10 in /usr/local/lib/python3.10/dist-packages (from matplotlib->control) (0.11.0)\n",
            "Requirement already satisfied: fonttools>=4.22.0 in /usr/local/lib/python3.10/dist-packages (from matplotlib->control) (4.39.3)\n",
            "Requirement already satisfied: kiwisolver>=1.0.1 in /usr/local/lib/python3.10/dist-packages (from matplotlib->control) (1.4.4)\n",
            "Requirement already satisfied: packaging>=20.0 in /usr/local/lib/python3.10/dist-packages (from matplotlib->control) (23.1)\n",
            "Requirement already satisfied: pillow>=6.2.0 in /usr/local/lib/python3.10/dist-packages (from matplotlib->control) (8.4.0)\n",
            "Requirement already satisfied: pyparsing>=2.3.1 in /usr/local/lib/python3.10/dist-packages (from matplotlib->control) (3.0.9)\n",
            "Requirement already satisfied: python-dateutil>=2.7 in /usr/local/lib/python3.10/dist-packages (from matplotlib->control) (2.8.2)\n",
            "Requirement already satisfied: six>=1.5 in /usr/local/lib/python3.10/dist-packages (from python-dateutil>=2.7->matplotlib->control) (1.16.0)\n",
            "Installing collected packages: control\n",
            "Successfully installed control-0.9.3.post2\n",
            "Looking in indexes: https://pypi.org/simple, https://us-python.pkg.dev/colab-wheels/public/simple/\n",
            "Requirement already satisfied: matplotlib in /usr/local/lib/python3.10/dist-packages (3.7.1)\n",
            "Requirement already satisfied: contourpy>=1.0.1 in /usr/local/lib/python3.10/dist-packages (from matplotlib) (1.0.7)\n",
            "Requirement already satisfied: cycler>=0.10 in /usr/local/lib/python3.10/dist-packages (from matplotlib) (0.11.0)\n",
            "Requirement already satisfied: fonttools>=4.22.0 in /usr/local/lib/python3.10/dist-packages (from matplotlib) (4.39.3)\n",
            "Requirement already satisfied: kiwisolver>=1.0.1 in /usr/local/lib/python3.10/dist-packages (from matplotlib) (1.4.4)\n",
            "Requirement already satisfied: numpy>=1.20 in /usr/local/lib/python3.10/dist-packages (from matplotlib) (1.22.4)\n",
            "Requirement already satisfied: packaging>=20.0 in /usr/local/lib/python3.10/dist-packages (from matplotlib) (23.1)\n",
            "Requirement already satisfied: pillow>=6.2.0 in /usr/local/lib/python3.10/dist-packages (from matplotlib) (8.4.0)\n",
            "Requirement already satisfied: pyparsing>=2.3.1 in /usr/local/lib/python3.10/dist-packages (from matplotlib) (3.0.9)\n",
            "Requirement already satisfied: python-dateutil>=2.7 in /usr/local/lib/python3.10/dist-packages (from matplotlib) (2.8.2)\n",
            "Requirement already satisfied: six>=1.5 in /usr/local/lib/python3.10/dist-packages (from python-dateutil>=2.7->matplotlib) (1.16.0)\n"
          ]
        }
      ]
    },
    {
      "cell_type": "code",
      "source": [
        "# Given values\n",
        "V= 279.1    # Velocity ft/sec\n",
        "rho = 0.002377  # Density slug/ft^3\n",
        "S = 5500    # Wing area ft^2\n",
        "c_bar = 27.3    # Mean chord length in ft\n",
        "W = 564032     # Weight in lb\n",
        "b = 195.7   # Wing span in ft\n",
        "Ix = 14.3e6  # MOI about x axis in slug ft^2\n",
        "Iy = 32.3e6  # MOI about y axis in slug ft^2\n",
        "Iz = 45.3e6  # MOI about z axis in slug ft^2\n",
        "Ixz = -2.23e6  # MOI about xz axis in slug ft^2\n",
        "\n",
        "# Aerodynamic Derivatives\n",
        "Cy_beta = -0.96\n",
        "Cyp = 0.0\n",
        "Cyr = 0.0\n",
        "Cl_beta = -0.221\n",
        "Clp = -0.45\n",
        "Clr = 0.101\n",
        "Cn_beta = 0.15\n",
        "Cnp = -0.121\n",
        "Cnr = -0.30\n",
        "\n",
        "# Other aerodynamic derivatives\n",
        "Cl_del_a = 0.0461\n",
        "Cn_del_a = 0.0064\n",
        "Cy_del_r = 0.175\n",
        "Cl_del_r = 0.007\n",
        "Cn_del_r = -0.109"
      ],
      "metadata": {
        "id": "Om4HZRH8mIbm"
      },
      "execution_count": 6,
      "outputs": []
    },
    {
      "cell_type": "code",
      "source": [
        "#Conversion Factors\n",
        "ft_to_m = 0.3048    # Conversion from ft to meters\n",
        "\n",
        "#Calculate some important parameters\n",
        "g = 32.174  # Accelration due to gravity in ft/sec^2\n",
        "Q = 0.5 * rho * V**2    # Dynamic Pressure (lb/ft^2)\n",
        "m = W / 32.174 #Mass (lb to slug)"
      ],
      "metadata": {
        "id": "MdwRt554mUqj"
      },
      "execution_count": 7,
      "outputs": []
    },
    {
      "cell_type": "markdown",
      "source": [
        "# Lateral A/C state space model\n",
        "\n",
        "Using the state vector and control vector and all aerodynamic derivatives, lateral aircraft state-space model (A, B, C, D) matrices can be obtained. "
      ],
      "metadata": {
        "id": "AJUQQHZsmgf0"
      }
    },
    {
      "cell_type": "code",
      "source": [
        "# State vector x = [v  p  phi r]^T --> Column vector\n",
        "# Control vector --> eta = [del_r    del_a]^T --> Column vector\n",
        "# Sideslip angle is beta\n",
        "\n",
        "# State space model matrices\n",
        "A = np.array([[-Cy_beta*Q*S/(m*V), 0, 0, -m*g/(m*V)],\n",
        "              [0, 0, 1, 0],\n",
        "              [0, 0, 0, 1],\n",
        "              [0, (b * (Clp*Q*S*b + Cnp*Q*S*c_bar)) / (Iy*V), 0, (Clr*Q*S*b + Cnr*Q*S*c_bar) / (Iy*V)]])\n",
        "\n",
        "B = np.array([[Cy_del_r*Q*S/m, Cl_del_a*Q*S / (Iy*V)],\n",
        "              [0, 0],\n",
        "              [0, 0],\n",
        "              [Cn_del_r*Q*S*b / (Iy*V), Cn_del_a*Q*S*c_bar / (Iy*V)]])\n",
        "\n",
        "C = np.array([[1, 0, 0, 0],\n",
        "              [0, 1, 0, 0]])\n",
        "\n",
        "D = np.zeros((2, 2))\n",
        "\n",
        "# Printing the state space model matrices\n",
        "print(\"A matrix (System dynamics) :\")\n",
        "print(A)\n",
        "print(\"\\n\")\n",
        "\n",
        "print(\"B matrix (Influence of control vars on state vars:\")\n",
        "print(B)\n",
        "print(\"\\n\")\n",
        "\n",
        "print(\"C matrix: \")\n",
        "print(C)\n",
        "print(\"\\n\")\n",
        "\n",
        "print(\"D matrix:\")\n",
        "print(D)"
      ],
      "metadata": {
        "colab": {
          "base_uri": "https://localhost:8080/"
        },
        "id": "lWquMzjJmZ95",
        "outputId": "8a84689a-7e76-491b-963e-4c311aae53a4"
      },
      "execution_count": 8,
      "outputs": [
        {
          "output_type": "stream",
          "name": "stdout",
          "text": [
            "A matrix (System dynamics) :\n",
            "[[ 9.99066182e-02  0.00000000e+00  0.00000000e+00 -1.15277678e-01]\n",
            " [ 0.00000000e+00  0.00000000e+00  1.00000000e+00  0.00000000e+00]\n",
            " [ 0.00000000e+00  0.00000000e+00  0.00000000e+00  1.00000000e+00]\n",
            " [ 0.00000000e+00 -1.00996322e+00  0.00000000e+00  6.53832422e-04]]\n",
            "\n",
            "\n",
            "B matrix (Influence of control vars on state vars:\n",
            "[[ 5.08300937e+00  2.60387490e-06]\n",
            " [ 0.00000000e+00  0.00000000e+00]\n",
            " [ 0.00000000e+00  0.00000000e+00]\n",
            " [-1.20485980e-03  9.86874235e-06]]\n",
            "\n",
            "\n",
            "C matrix: \n",
            "[[1 0 0 0]\n",
            " [0 1 0 0]]\n",
            "\n",
            "\n",
            "D matrix:\n",
            "[[0. 0.]\n",
            " [0. 0.]]\n"
          ]
        }
      ]
    },
    {
      "cell_type": "markdown",
      "source": [
        "# POLE - ZERO MAP\n",
        "A pole zero map of the state-space plant can be generated. The poles give a better idea about the stability of the system. "
      ],
      "metadata": {
        "id": "kQERNy9Im-9y"
      }
    },
    {
      "cell_type": "code",
      "source": [
        "### Pole-zero map of the state-space plant\n",
        "\n",
        "sys = control.StateSpace(A, B, C, D)\n",
        "Poles = sys.pole()\n",
        "Zeroes = sys.zero()\n",
        "\n",
        "## Printing poles and zeroes of system\n",
        "print(\"Poles:\")\n",
        "for pole in Poles:\n",
        "    print(pole)\n",
        "\n",
        "print(\"\\nZeroes:\")\n",
        "for zero in Zeroes:\n",
        "    print(zero)\n",
        "\n",
        "# No zeroes in the system"
      ],
      "metadata": {
        "colab": {
          "base_uri": "https://localhost:8080/"
        },
        "id": "G74iTn59nPoc",
        "outputId": "26e76e4c-af4f-4078-bf13-1198e5aca492"
      },
      "execution_count": 9,
      "outputs": [
        {
          "output_type": "stream",
          "name": "stdout",
          "text": [
            "Poles:\n",
            "(0.09990661818611711+0j)\n",
            "(-1.0030922088609868+0j)\n",
            "(0.5018730206416656+0.8688919983740085j)\n",
            "(0.5018730206416656-0.8688919983740085j)\n",
            "\n",
            "Zeroes:\n"
          ]
        }
      ]
    },
    {
      "cell_type": "markdown",
      "source": [
        "The poles generated are complex numbers and there are no zeroes present in the system. In this case, the system has 4 poles and their values indicate the stability modes of the lateral dynamics of the system. \n",
        "\n",
        "### Analysis of Poles\n",
        "1. *Pole 1 - Real part = 0.0999, Imaginary part = 0.*\n",
        "This pole has a small positive real part and no imaginary part. This shows a slightly stable mode of lateral dynamics \n",
        "\n",
        "2. *Pole 2 - Real term = -1.003, Imaginary term = 0* \n",
        "This pole has a negative real part, which shows a stable mode of lateral dynamics. In fact it is a showcase of a dominant stability mode. \n",
        "\n",
        "3. *Pole 3 - Real term = 0.5019, Imaginary term = 0.8688*\n",
        "This pole again has a positive real part and a non-zero imaginary term. This shows an oscillator mode with damping ratio less than 1. This pole shows a slightly unstable mode. \n",
        "\n",
        "4. *Pole 4 - Real term = 0.5019, Imaginary term = -0.8689*\n",
        "This pole contains a positive real part and non-zero, but negative imaginary term. It represents the conjugate of pole 3 above. Due to this, the pole 4 shows the presence of a same oscillatory mode with a damping ratio less than 1. Also indicates a slightly unstable mode. \n"
      ],
      "metadata": {
        "id": "zF6SBA6GnWJ7"
      }
    },
    {
      "cell_type": "markdown",
      "source": [
        "## Any Concerns associated with poles or instability\n",
        "The ooutput generated does not show the presence of amy poles with significant positive real parts which would have indicated instability. But the presence of poles with small positive real parts and non-zero imaginary parts, i.e poles 3 and 4 indicate the presence of a potental oscillatory behavior with a lightly damped mode. This may not be very concerning regarding a huge instability, but demonstrates that the lateral dynamics may exhibit some oscillations that may have to be controlled. \n",
        "\n",
        "Overall the system showcases a stable and slightly stable lateral dynamics. "
      ],
      "metadata": {
        "id": "T-yOWKwgp_CY"
      }
    },
    {
      "cell_type": "markdown",
      "source": [
        "# Background Theory for analysis of poles & zeroes \n",
        "To analyze the stability properties of the lateral aircraft state space model, the poles of the system need to be examined. In this case the poles are the eigenvalues of the system matrix A and give an idea about the tabilty and dynamic behavior of the system. The pole-zero map helped identify the locations of the poles and zeroes in the complex plane. If any pole has a positive real part or is close to the imaginary axis, it indicates potential system instability. On the other hand, if any pole has negative real parts and are farther from the imaginary axis on the left hand plane, it indicates potential system stability. \n",
        "\n",
        "Regarding zeroes in a system, presence of zeroes can affect the system's response and behavior. Zeroes indicate values that make the transfer function zero, which further gives an indea into input-output relationships. The presence and respective location of zeroes affects system's frequency response and transient behavior. "
      ],
      "metadata": {
        "id": "EEIaH7SzGtyH"
      }
    },
    {
      "cell_type": "markdown",
      "source": [
        "# Effect of dihedral on spiral mode\n",
        "\n",
        "The dihedral angle which was represented as beta and shows the upward angle between the wings of an aicraft, affects the lateral stability, which can further impact the spiral mode. The spiral mode fundamentally means the oscillatory motion, where the aircraft rolls and yaws simultaneously. \n",
        "\n",
        "On increasing the dihedral angle, the spiral  mode will be affected by poles 3 and 4. These 2 poles are complex conjugate pairs with same real and imagianry terms. \n",
        "\n",
        "When dihedral is increased, the lateral aircraft stability is also improved. This would mean the real parts of the poles in the spiral modes would move more towards the negative plane, which would mean a more stable spiral mode.\n",
        "\n",
        "*   Pole 3 - Real term = 0.5019, Imaginary term = 0.8688\n",
        "*  Pole 4 - Real term = 0.5019, Imaginary term = -0.8689*\n",
        "\n",
        "For both poles 3 and 4, we would expect the real parts to move closer to the negative axis, increasing the stability in the roll-yaw oscillation of the spiral mode. \n",
        "\n",
        "This increase in lateral stability, also helps prevent chances of divergence in the spiral mode. "
      ],
      "metadata": {
        "id": "N6WsQOkbF-Tx"
      }
    },
    {
      "cell_type": "markdown",
      "source": [
        "# STEP RESPONSE OF ROLL RATE"
      ],
      "metadata": {
        "id": "5luoQMXOtdrG"
      }
    },
    {
      "cell_type": "code",
      "source": [
        "# To show a step response of roll rate given an input\n",
        "\n",
        "# Define the time vector for simulation\n",
        "t = np.linspace (0,10,1000)\n",
        "# Define the input step function\n",
        "u = np.ones_like(t)\n",
        "\n",
        "# Simulate the system step response\n",
        "t, y = control.step_response(sys, T=t, input=u)\n",
        "\n",
        "# Reshape the y array to have a 1D shape\n",
        "y = np.squeeze(y)\n",
        "y = y[0]\n",
        "\n",
        "#Plotting the step response\n",
        "\n",
        "plt.plot(t, y)\n",
        "plt.xlabel('Time')\n",
        "plt.ylabel('Roll Rate')\n",
        "plt.title('Step Response of Roll Rate')\n",
        "plt.grid(True)\n",
        "plt.show()\n"
      ],
      "metadata": {
        "id": "e3vb6uSHtVFO"
      },
      "execution_count": null,
      "outputs": []
    },
    {
      "cell_type": "markdown",
      "source": [
        "![Step response of roll rate.png](data:image/png;base64,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)"
      ],
      "metadata": {
        "id": "0s_FBMGLtlex"
      }
    },
    {
      "cell_type": "markdown",
      "source": [
        "The roll rate starts from 0 and increases steadily in the first 7 seconds. This tells that the system initially responds positively to the step input. \n",
        "After reaching a peak value of roll rate in 7 seconds, there is a sharp drop and reaches negative values. This behavior shows that the system has a high overshoot and some oscillations. \n",
        "The sharp drop in the plot is indicative of some damping. Damoing refers to the system's ability to resist oscillations and intuitively retun to a stable state. "
      ],
      "metadata": {
        "id": "4x66pEuGuaZI"
      }
    }
  ]
}